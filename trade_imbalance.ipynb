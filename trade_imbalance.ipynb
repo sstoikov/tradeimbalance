{
 "cells": [
  {
   "cell_type": "code",
   "execution_count": 37,
   "metadata": {
    "collapsed": true
   },
   "outputs": [],
   "source": [
    "import pandas as pd\n",
    "from pandas import HDFStore,DataFrame\n",
    "import numpy as np\n",
    "import csv\n",
    "import plotly.plotly as py\n",
    "import plotly.tools as tls \n",
    "from plotly.graph_objs import *\n",
    "import cufflinks\n",
    "\n",
    "%matplotlib inline\n",
    "\n",
    "py.sign_in('sasha.stoikov', 'tgjlyepa0n')\n",
    "\n",
    "ticker='AXP' #bad 0.0176\n",
    "ticker='BA' #bad 0.0256\n",
    "\n",
    "ticker='CAT' #bad 0.0348\n",
    "ticker='DD'  #ok 0.017\n",
    "ticker='DIS' #ok 0.0145\n",
    "\n",
    "ticker='HD' #ok 0.0154\n",
    "\n",
    "ticker='IBM' #ok 0.0626\n",
    "ticker='INTC' #bad 0.0121\n",
    "ticker='JNJ' #ok 0.0150\n",
    "\n",
    "ticker='KO' #ok 0.0149\n",
    "ticker='MCD' #ok 0.0195\n",
    "#abc ticker='MMM' #bad 0.0271\n",
    "#ticker='MRK' #ok 0.0141\n",
    "ticker='MSFT' #bad 0.0121\n",
    "\n",
    "spread=0.01\n",
    "#ticker='JPM' #good 0.0141\n",
    "#ticker='KFT' #good 0.0135\n",
    "ticker='GE' #good 0.0128\n",
    "#ticker='HPQ' #good 0.0135\n",
    "#ticker='BAC' #good 0.0118\n",
    "#ticker='AA' #good 0.0126\n",
    "\n",
    "#ticker='8604.T'\n",
    "#ticker='ES'\n",
    "#ticker='ES_flashcrash'\n",
    "#spread=0.25"
   ]
  },
  {
   "cell_type": "markdown",
   "metadata": {},
   "source": [
    "Charle's data"
   ]
  },
  {
   "cell_type": "code",
   "execution_count": 27,
   "metadata": {
    "collapsed": false
   },
   "outputs": [
    {
     "name": "stdout",
     "output_type": "stream",
     "text": [
      "        bid    ask                    ts_recv  price   qty  bid_size  \\\n",
      "1643  37.27  37.28 2014-01-02 16:22:06.341000  37.27  1000      2081   \n",
      "1644  37.27  37.28 2014-01-02 16:22:06.342000  37.27   200      1081   \n",
      "1645  37.27  37.28 2014-01-02 16:22:06.342000  37.27   350       881   \n",
      "1646  37.27  37.28 2014-01-02 16:22:06.342000  37.27   100       531   \n",
      "1647  37.27  37.28 2014-01-02 16:22:06.342000  37.27   100       431   \n",
      "\n",
      "      ask_size  status qualifier  source  \n",
      "1643      5788     800    Normal  NASDAQ  \n",
      "1644      5788     800    Normal  NASDAQ  \n",
      "1645      5788     800    Normal  NASDAQ  \n",
      "1646      5788     800    Normal  NASDAQ  \n",
      "1647      5788     800    Normal  NASDAQ  \n"
     ]
    }
   ],
   "source": [
    "#charles=pd.read_hdf('data/microsoft_2014_jan_02.h5','df')\n",
    "hdf = HDFStore('data/microsoft_2014_jan_02.h5')\n",
    "print hdf.df_trades.head()"
   ]
  },
  {
   "cell_type": "code",
   "execution_count": 28,
   "metadata": {
    "collapsed": false
   },
   "outputs": [
    {
     "data": {
      "text/plain": [
       "<matplotlib.axes._subplots.AxesSubplot at 0x108e7d0d0>"
      ]
     },
     "execution_count": 28,
     "metadata": {},
     "output_type": "execute_result"
    },
    {
     "data": {
      "image/png": "[encoded data removed]",
      "text/plain": [
       "<matplotlib.figure.Figure at 0x108d6afd0>"
      ]
     },
     "metadata": {},
     "output_type": "display_data"
    }
   ],
   "source": [
    "spread=0.01\n",
    "df=hdf.df_trades\n",
    "df['bid']=np.round(df['bid'],2)\n",
    "df['ask']=np.round(df['ask'],2)\n",
    "df['price']=np.round(df['price'],2)\n",
    "df['spread']=np.round(df['ask']-df['bid'],2)\n",
    "df['imb']=df['bid_size']/(df['bid_size']+df['ask_size'])\n",
    "df['side']=np.array(df['price']>=df['ask']).astype(int)-np.array(df['price']<=df['bid']).astype(int)\n",
    "df['spread'].mean()\n",
    "df['imb_round']=np.round(df['imb'],2)\n",
    "volume_group=df[df['spread']==spread].groupby(['imb_round'])\n",
    "volume_group['qty'].sum().plot(title=ticker+' spread = 0.01')\n"
   ]
  },
  {
   "cell_type": "markdown",
   "metadata": {},
   "source": [
    "Only run this once! it takes a while"
   ]
  },
  {
   "cell_type": "code",
   "execution_count": 61,
   "metadata": {
    "collapsed": false
   },
   "outputs": [
    {
     "name": "stdout",
     "output_type": "stream",
     "text": [
      "500000\n",
      "1000000\n",
      "1500000\n",
      "2000000\n",
      "2500000\n",
      "3000000\n",
      "3500000\n",
      "4000000\n",
      "4500000\n",
      "5000000\n",
      "5500000\n",
      "6000000\n"
     ]
    }
   ],
   "source": [
    "# clean the data\n",
    "reader = csv.reader(open(\"data/%s.csv\"%str(ticker), \"rb\"), delimiter='\\t')\n",
    "\n",
    "f = csv.writer(open(\"data/%s_clean.csv\"%str(ticker), \"wb\"))\n",
    "i=0\n",
    "for line in reader:\n",
    "    try: \n",
    "        y=int(line[0][0])\n",
    "        #print map(float,line[0].split(','))[0]\n",
    "        f.writerow(line[0].split(','))\n",
    "    except:\n",
    "        i=i+1\n",
    "        \n",
    "    i=i+1\n",
    "    if i%500000==0:\n",
    "        print i"
   ]
  },
  {
   "cell_type": "markdown",
   "metadata": {},
   "source": [
    "Load Abergel data"
   ]
  },
  {
   "cell_type": "code",
   "execution_count": 38,
   "metadata": {
    "collapsed": false
   },
   "outputs": [
    {
     "data": {
      "text/plain": [
       "3420725"
      ]
     },
     "execution_count": 38,
     "metadata": {},
     "output_type": "execute_result"
    }
   ],
   "source": [
    "df=pd.read_csv(\"data/%s_clean.csv\"%str(ticker))\n",
    "#df=pd.read_csv(\"data/%s.csv\"%str(ticker))\n",
    "len(df)"
   ]
  },
  {
   "cell_type": "code",
   "execution_count": 39,
   "metadata": {
    "collapsed": false
   },
   "outputs": [
    {
     "data": {
      "text/plain": [
       "0.012816918968720475"
      ]
     },
     "execution_count": 39,
     "metadata": {},
     "output_type": "execute_result"
    }
   ],
   "source": [
    "\n",
    "df.columns=['date','time','bid','bs','ask','as','price','size']\n",
    "df['bid']=np.round(df['bid'],2)\n",
    "df['ask']=np.round(df['ask'],2)\n",
    "df['price']=np.round(df['price'],2)\n",
    "df['spread']=np.round(df['ask']-df['bid'],2)\n",
    "df['imb']=df['bs']/(df['bs']+df['as'])\n",
    "df['side']=np.array(df['price']==df['ask']).astype(int)-np.array(df['price']==df['bid']).astype(int)+np.array(df['price']>df['ask']).astype(int)*2-np.array(df['price']<df['bid']).astype(int)*2\n",
    "df=df[df['bid']>0] #remove negative bids\n",
    "df=df[np.abs(df['side'])<2] #remove trades outside the bid/ask spread\n",
    "df['spread'].mean()\n"
   ]
  },
  {
   "cell_type": "code",
   "execution_count": 30,
   "metadata": {
    "collapsed": false
   },
   "outputs": [
    {
     "data": {
      "text/html": [
       "<div style=\"max-height:1000px;max-width:1500px;overflow:auto;\">\n",
       "<table border=\"1\" class=\"dataframe\">\n",
       "  <thead>\n",
       "    <tr style=\"text-align: right;\">\n",
       "      <th></th>\n",
       "      <th>date</th>\n",
       "      <th>time</th>\n",
       "      <th>bid</th>\n",
       "      <th>bs</th>\n",
       "      <th>ask</th>\n",
       "      <th>as</th>\n",
       "      <th>price</th>\n",
       "      <th>size</th>\n",
       "      <th>spread</th>\n",
       "      <th>imb</th>\n",
       "      <th>side</th>\n",
       "    </tr>\n",
       "  </thead>\n",
       "  <tbody>\n",
       "  </tbody>\n",
       "</table>\n",
       "</div>"
      ],
      "text/plain": [
       "Empty DataFrame\n",
       "Columns: [date, time, bid, bs, ask, as, price, size, spread, imb, side]\n",
       "Index: []"
      ]
     },
     "execution_count": 30,
     "metadata": {},
     "output_type": "execute_result"
    }
   ],
   "source": [
    "df[df['side']==2].head(20)"
   ]
  },
  {
   "cell_type": "code",
   "execution_count": 40,
   "metadata": {
    "collapsed": false
   },
   "outputs": [],
   "source": [
    "df['imb_round']=np.round(df['imb'],2)"
   ]
  },
  {
   "cell_type": "code",
   "execution_count": 41,
   "metadata": {
    "collapsed": false
   },
   "outputs": [],
   "source": [
    "#df=df[df['size']<=100]"
   ]
  },
  {
   "cell_type": "code",
   "execution_count": 42,
   "metadata": {
    "collapsed": false
   },
   "outputs": [
    {
     "data": {
      "text/plain": [
       "<matplotlib.axes._subplots.AxesSubplot at 0x10765bfd0>"
      ]
     },
     "execution_count": 42,
     "metadata": {},
     "output_type": "execute_result"
    },
    {
     "data": {
      "image/png": "[encoded data removed]",
      "text/plain": [
       "<matplotlib.figure.Figure at 0x107741990>"
      ]
     },
     "metadata": {},
     "output_type": "display_data"
    }
   ],
   "source": [
    "df[(df['spread']>0) & (df['spread']<0.05)]['spread'].hist()"
   ]
  },
  {
   "cell_type": "code",
   "execution_count": 43,
   "metadata": {
    "collapsed": false
   },
   "outputs": [
    {
     "data": {
      "text/plain": [
       "spread  side\n",
       "0.01    -1      1268760\n",
       "         1      1206701\n",
       "0.02    -1        19276\n",
       "         0       890912\n",
       "         1        17701\n",
       "0.03    -1         1315\n",
       "         0         7294\n",
       "         1         1022\n",
       "0.04    -1          443\n",
       "         0         1540\n",
       "         1          329\n",
       "0.05    -1          204\n",
       "         0          515\n",
       "         1           89\n",
       "0.06    -1           31\n",
       "         0          205\n",
       "         1          104\n",
       "0.07    -1           47\n",
       "         0           95\n",
       "         1           15\n",
       "0.08    -1            8\n",
       "         0           51\n",
       "         1            2\n",
       "0.09    -1            2\n",
       "         0           32\n",
       "         1            5\n",
       "0.10    -1            3\n",
       "         0           14\n",
       "         1            1\n",
       "0.11    -1            4\n",
       "         0            7\n",
       "         1            2\n",
       "0.12    -1            4\n",
       "         0           22\n",
       "         1            3\n",
       "0.13     0            5\n",
       "         1            1\n",
       "0.14    -1            3\n",
       "         0            2\n",
       "         1            3\n",
       "0.15    -1            1\n",
       "         0            1\n",
       "0.16    -1            2\n",
       "         0            3\n",
       "         1           10\n",
       "0.17     0            5\n",
       "0.18     0            1\n",
       "         1            1\n",
       "0.80     0            8\n",
       "Name: size, dtype: int64"
      ]
     },
     "execution_count": 43,
     "metadata": {},
     "output_type": "execute_result"
    }
   ],
   "source": [
    "spread_group=df[df['spread']>0].groupby(['spread','side'])\n",
    "spread_group['size'].count()"
   ]
  },
  {
   "cell_type": "code",
   "execution_count": 44,
   "metadata": {
    "collapsed": false
   },
   "outputs": [
    {
     "data": {
      "text/plain": [
       "<matplotlib.axes._subplots.AxesSubplot at 0x10774e890>"
      ]
     },
     "execution_count": 44,
     "metadata": {},
     "output_type": "execute_result"
    },
    {
     "data": {
      "image/png": "[encoded data removed]",
      "text/plain": [
       "<matplotlib.figure.Figure at 0x108309350>"
      ]
     },
     "metadata": {},
     "output_type": "display_data"
    }
   ],
   "source": [
    "volume_group=df[df['spread']==spread].groupby(['imb_round'])\n",
    "volume_group['size'].sum().plot(title=ticker+' spread = 1')"
   ]
  },
  {
   "cell_type": "code",
   "execution_count": 45,
   "metadata": {
    "collapsed": false
   },
   "outputs": [
    {
     "data": {
      "text/plain": [
       "<matplotlib.axes._subplots.AxesSubplot at 0x108e33f10>"
      ]
     },
     "execution_count": 45,
     "metadata": {},
     "output_type": "execute_result"
    },
    {
     "data": {
      "image/png": "[encoded data removed]",
      "text/plain": [
       "<matplotlib.figure.Figure at 0x1083d1b10>"
      ]
     },
     "metadata": {},
     "output_type": "display_data"
    }
   ],
   "source": [
    "volume_group=df[df['spread']==2*spread].groupby(['imb_round'])\n",
    "volume_group['size'].sum().plot(title=ticker+' spread = 2')"
   ]
  },
  {
   "cell_type": "code",
   "execution_count": null,
   "metadata": {
    "collapsed": true
   },
   "outputs": [],
   "source": []
  },
  {
   "cell_type": "code",
   "execution_count": null,
   "metadata": {
    "collapsed": true
   },
   "outputs": [],
   "source": []
  }
 ],
 "metadata": {
  "kernelspec": {
   "display_name": "Python 2",
   "language": "python",
   "name": "python2"
  },
  "language_info": {
   "codemirror_mode": {
    "name": "ipython",
    "version": 2
   },
   "file_extension": ".py",
   "mimetype": "text/x-python",
   "name": "python",
   "nbconvert_exporter": "python",
   "pygments_lexer": "ipython2",
   "version": "2.7.9"
  }
 },
 "nbformat": 4,
 "nbformat_minor": 0
}
